{
 "cells": [
  {
   "cell_type": "code",
   "execution_count": 4,
   "id": "1744a2e4-4062-4780-a3a6-6055ce63a620",
   "metadata": {},
   "outputs": [],
   "source": [
    "import spotipy\n",
    "import json\n",
    "import urllib.request\n",
    "import spotipy.util as util"
   ]
  },
  {
   "cell_type": "code",
   "execution_count": 7,
   "id": "216884fe-50d0-43ac-beef-02f7b280b90b",
   "metadata": {},
   "outputs": [],
   "source": [
    "url = f\"https://api.sunrise-sunset.org/json?lat=36.7201600&lng=-4.4203400\""
   ]
  },
  {
   "cell_type": "code",
   "execution_count": 8,
   "id": "f5b7a3f5-86ec-433a-97d4-c7357a6b7aee",
   "metadata": {},
   "outputs": [],
   "source": [
    "request = urllib.request.Request(url)\n",
    "response = urllib.request.urlopen(request)"
   ]
  },
  {
   "cell_type": "code",
   "execution_count": 9,
   "id": "09556341-7e58-40a8-9fea-f15d16f6d429",
   "metadata": {},
   "outputs": [
    {
     "data": {
      "text/plain": [
       "http.client.HTTPResponse"
      ]
     },
     "execution_count": 9,
     "metadata": {},
     "output_type": "execute_result"
    }
   ],
   "source": [
    "type(response)"
   ]
  },
  {
   "cell_type": "code",
   "execution_count": 10,
   "id": "a9ea04af-e8d5-4848-8862-a29164d5badc",
   "metadata": {},
   "outputs": [],
   "source": [
    "suntime_json = json.loads(response.read())"
   ]
  },
  {
   "cell_type": "code",
   "execution_count": 11,
   "id": "553da355-2964-43af-b3ce-50b2c333d112",
   "metadata": {},
   "outputs": [
    {
     "name": "stdout",
     "output_type": "stream",
     "text": [
      "{'results': {'sunrise': '6:39:32 AM', 'sunset': '5:23:00 PM', 'solar_noon': '12:01:16 PM', 'day_length': '10:43:28', 'civil_twilight_begin': '6:14:11 AM', 'civil_twilight_end': '5:48:21 PM', 'nautical_twilight_begin': '5:43:39 AM', 'nautical_twilight_end': '6:18:53 PM', 'astronomical_twilight_begin': '5:13:29 AM', 'astronomical_twilight_end': '6:49:03 PM'}, 'status': 'OK', 'tzid': 'UTC'}\n"
     ]
    }
   ],
   "source": [
    "print(suntime_json)"
   ]
  },
  {
   "cell_type": "code",
   "execution_count": 13,
   "id": "6deca8a8-8370-4f81-9b22-e4e248426ae3",
   "metadata": {},
   "outputs": [
    {
     "name": "stdout",
     "output_type": "stream",
     "text": [
      "6:39:32 AM\n",
      "5:23:00 PM\n"
     ]
    }
   ],
   "source": [
    "sunrise = suntime_json['results']['sunrise']\n",
    "sunset = suntime_json['results']['sunset']\n",
    "print(sunrise)\n",
    "print(sunset)"
   ]
  },
  {
   "cell_type": "code",
   "execution_count": null,
   "id": "e723ecd2-a413-485c-ae41-a11eb2ed5ab9",
   "metadata": {},
   "outputs": [],
   "source": [
    "# open spotify api\n",
    "#ignore the key in git\n",
    "with "
   ]
  }
 ],
 "metadata": {
  "kernelspec": {
   "display_name": "Python 3 (ipykernel)",
   "language": "python",
   "name": "python3"
  },
  "language_info": {
   "codemirror_mode": {
    "name": "ipython",
    "version": 3
   },
   "file_extension": ".py",
   "mimetype": "text/x-python",
   "name": "python",
   "nbconvert_exporter": "python",
   "pygments_lexer": "ipython3",
   "version": "3.11.9"
  }
 },
 "nbformat": 4,
 "nbformat_minor": 5
}
